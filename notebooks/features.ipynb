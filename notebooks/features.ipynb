{
 "cells": [
  {
   "cell_type": "markdown",
   "id": "36e03ec1",
   "metadata": {},
   "source": [
    "# One hot encoding"
   ]
  },
  {
   "cell_type": "code",
   "execution_count": 12,
   "id": "b8e22115",
   "metadata": {},
   "outputs": [],
   "source": [
    "import pandas as pd\n",
    "from sklearn.preprocessing import OneHotEncoder"
   ]
  },
  {
   "cell_type": "code",
   "execution_count": 13,
   "id": "16bf2a96",
   "metadata": {},
   "outputs": [],
   "source": [
    "data = {\n",
    "    'EmployeeID': [10, 20, 15, 25, 30],\n",
    "    'Gender': ['M', 'F', 'F', 'M', 'F'],\n",
    "    'Remarks': ['Good', 'Nice', 'Good', 'Great', 'Nice'],\n",
    "}\n",
    "\n",
    "df = pd.DataFrame(data)"
   ]
  },
  {
   "cell_type": "code",
   "execution_count": 14,
   "id": "df54d2f1",
   "metadata": {},
   "outputs": [
    {
     "name": "stdout",
     "output_type": "stream",
     "text": [
      "   EmployeeID Gender Remarks\n",
      "0          10      M    Good\n",
      "1          20      F    Nice\n",
      "2          15      F    Good\n",
      "3          25      M   Great\n",
      "4          30      F    Nice\n"
     ]
    }
   ],
   "source": [
    "print(df)"
   ]
  },
  {
   "cell_type": "code",
   "execution_count": 15,
   "id": "788a4776",
   "metadata": {},
   "outputs": [],
   "source": [
    "# Extract categorical columns from the dataframe\n",
    "# Here we extract columns with object data type as categorical columns\n",
    "categorical_columsn = df.select_dtypes(include=['object']).columns.tolist()\n",
    "\n",
    "# Initialize OneHotEncoder\n",
    "encoder = OneHotEncoder(sparse_output=False)\n",
    "\n",
    "# Apply OneHotEncoder to categorical columns\n",
    "one_hot_encoded = encoder.fit_transform(df[categorical_columsn])\n",
    "\n",
    "# Create a DataFrame with the one-hot encoded columns\n",
    "one_hot_df = pd.DataFrame(one_hot_encoded, columns=encoder.get_feature_names_out())\n",
    "\n",
    "# Concatenate the original dataframe (excluding categorical columns) with the one-hot encoded dataframe\n",
    "df_encoded = pd.concat([df, one_hot_df], axis=1)\n",
    "\n",
    "# Drop original categorical columns\n",
    "df_encoded = df_encoded.drop(columns=categorical_columsn, axis=1)\n"
   ]
  },
  {
   "cell_type": "code",
   "execution_count": 16,
   "id": "a33ad72c",
   "metadata": {},
   "outputs": [
    {
     "name": "stdout",
     "output_type": "stream",
     "text": [
      "   EmployeeID  Gender_F  Gender_M  Remarks_Good  Remarks_Great  Remarks_Nice\n",
      "0          10       0.0       1.0           1.0            0.0           0.0\n",
      "1          20       1.0       0.0           0.0            0.0           1.0\n",
      "2          15       1.0       0.0           1.0            0.0           0.0\n",
      "3          25       0.0       1.0           0.0            1.0           0.0\n",
      "4          30       1.0       0.0           0.0            0.0           1.0\n"
     ]
    }
   ],
   "source": [
    "print(df_encoded)"
   ]
  }
 ],
 "metadata": {
  "kernelspec": {
   "display_name": "basics (3.12.10)",
   "language": "python",
   "name": "python3"
  },
  "language_info": {
   "codemirror_mode": {
    "name": "ipython",
    "version": 3
   },
   "file_extension": ".py",
   "mimetype": "text/x-python",
   "name": "python",
   "nbconvert_exporter": "python",
   "pygments_lexer": "ipython3",
   "version": "3.12.10"
  }
 },
 "nbformat": 4,
 "nbformat_minor": 5
}
