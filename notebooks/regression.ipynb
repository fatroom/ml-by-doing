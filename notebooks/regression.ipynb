{
 "cells": [
  {
   "cell_type": "markdown",
   "id": "7fd806ee",
   "metadata": {},
   "source": [
    "# ML as optimization\n",
    "\n",
    "## Math behind \n",
    "\n",
    "$J(\\theta) = \\frac 1 n \\sum_{i=1}^n L(hypothesis, actuall)$\n",
    "\n",
    "L is cross entropy loss: \n",
    "\n",
    "$ L(h_\\theta, y) = - [y * \\log h_\\theta + (1-y) * \\log (1 - h_\\theta)]$\n",
    "\n",
    "Hypothesis:\n",
    "\n",
    "$h_\\theta (x)= \\frac 1 {1+e^{-\\theta^T x}} $\n",
    "\n",
    "*Goal*: Find theta that minimizes J\n",
    "\n",
    "### Matrix representation\n",
    "\n",
    "$ \\theta_{i+1} = \\theta_i - \\alpha(\\frac 1 n X^T(\\sigma(X\\theta - y))) $\n",
    "\n",
    "### Augmentation\n",
    "\n",
    "$ \\theta^T x + \\theta_0 = \\theta^{* T} x ^* $"
   ]
  },
  {
   "cell_type": "code",
   "execution_count": 2,
   "id": "5636dfe8",
   "metadata": {},
   "outputs": [],
   "source": [
    "import numpy as np\n",
    "import matplotlib.pyplot as plt"
   ]
  },
  {
   "cell_type": "code",
   "execution_count": 3,
   "id": "be5b3c27",
   "metadata": {},
   "outputs": [],
   "source": [
    "# define sigmoid function\n",
    "def sigmoid(z):\n",
    "    return 1 / (1 + np.exp(-z))\n"
   ]
  },
  {
   "cell_type": "code",
   "execution_count": 4,
   "id": "933ad4aa",
   "metadata": {},
   "outputs": [],
   "source": [
    "# Loss function: log likelihood\n",
    "def compute_loss(y, hx):\n",
    "    return -np.mean(y * np.log(hx) + (1 - y) * np.log(1 - hx))"
   ]
  },
  {
   "cell_type": "code",
   "execution_count": 5,
   "id": "8ab73e40",
   "metadata": {},
   "outputs": [],
   "source": [
    "# Gradient of the loss\n",
    "def compute_gradient(X, y, hx):\n",
    "    return np.dot(X.T, (hx - y)) / y.shape[0]"
   ]
  },
  {
   "cell_type": "code",
   "execution_count": 6,
   "id": "66f1d9d0",
   "metadata": {},
   "outputs": [],
   "source": [
    "# Dataset\n",
    "\n",
    "X = np.array([[2, 1],\n",
    "              [3, 2],\n",
    "              [4, 4],\n",
    "              [1, 5],\n",
    "              [2, 6],\n",
    "              [3, 7]\n",
    "])\n",
    "\n",
    "y = np.array([1, 1, 1, 0, 0, 0]) # labels"
   ]
  },
  {
   "cell_type": "code",
   "execution_count": 7,
   "id": "b0efdade",
   "metadata": {},
   "outputs": [
    {
     "data": {
      "image/png": "[encoded data removed]",
      "text/plain": [
       "<Figure size 640x480 with 1 Axes>"
      ]
     },
     "metadata": {},
     "output_type": "display_data"
    }
   ],
   "source": [
    "# Plot initial data\n",
    "plt.scatter(X[:3, 0], X[:3, 1], c='blue', marker = 'o', label='Positive class')\n",
    "plt.scatter(X[3:, 0], X[3:, 1], c='red', marker = 'x', label='Negative class')\n",
    "plt.xlabel('Whisker length')\n",
    "plt.ylabel('Ear flappiness')\n",
    "plt.legend()\n",
    "plt.title('Initial data plot')\n",
    "plt.show()"
   ]
  },
  {
   "cell_type": "code",
   "execution_count": null,
   "id": "14bb3d3f",
   "metadata": {},
   "outputs": [],
   "source": [
    "def plot_decision_boundary(X, y, weights, loss, iteration):\n",
    "    plt.scatter(X[:3, 0], X[:3, 1], c='blue', marker = 'o', label='Positive class' if iteration == 0 else \"\")\n",
    "    plt.scatter(X[3:, 0], X[3:, 1], c='red', marker = 'x', label='Negative class' if iteration == 0 else \"\")\n",
    "\n",
    "    # Extend the x values a bit beyond the min and max for better visualization\n",
    "    x_values = np.array([np.min(X[:, 0]) - 1, np.max(X[:, 0]) + 1])\n",
    "    y_values = -(weights[0] + x_values * weights[1]) / weights[2]\n",
    "    plt.plot(x_values, y_values, \"k\")\n",
    "\n",
    "    plt.xlim(x_values[0], x_values[1])\n",
    "    plt.ylim(np.min(X[:, 2]) - 1, np.max(X[:, 2]) + 1)\n",
    "    plt.xlabel('Whisker length')\n",
    "    plt.ylabel('Ear flappiness')\n",
    "    plt.title(f\"Decision Boundary at iteration {iteration}\\nLoss: {loss}\")\n",
    "    if iteration == 0:\n",
    "        plt.legend()\n",
    "    plt.show()"
   ]
  },
  {
   "cell_type": "code",
   "execution_count": null,
   "id": "1cd42288",
   "metadata": {},
   "outputs": [],
   "source": [
    "# Logistic regression model\n",
    "\n",
    "def logistic_regression(X, y, learning_rate=0.1, num_iterations=10):\n",
    "    # Add intercept term to X\n",
    "    X = np.hstack((np.ones((X.shape[0], 1)), X))\n",
    "\n",
    "    # Initialize weights\n",
    "    weights = np.zeros(X.shape[1])\n",
    "\n",
    "    # Gradient descent\n",
    "    for i in range(num_iterations):\n",
    "        z = np.dot(X, weights)\n",
    "        hx = sigmoid(z)\n",
    "        loss = compute_loss(y, hx)\n",
    "        gradient = compute_gradient(X, y, hx)\n",
    "        weights -= learning_rate * gradient\n",
    "\n",
    "        plot_decision_boundary(X, y, weights, loss, i)\n",
    "        print(f\"Iteration {i}: Theta: {weights}, Loss: {loss}\")\n",
    "    return weights"
   ]
  }
 ],
 "metadata": {
  "kernelspec": {
   "display_name": "basics (3.12.10)",
   "language": "python",
   "name": "python3"
  },
  "language_info": {
   "codemirror_mode": {
    "name": "ipython",
    "version": 3
   },
   "file_extension": ".py",
   "mimetype": "text/x-python",
   "name": "python",
   "nbconvert_exporter": "python",
   "pygments_lexer": "ipython3",
   "version": "3.12.10"
  }
 },
 "nbformat": 4,
 "nbformat_minor": 5
}
